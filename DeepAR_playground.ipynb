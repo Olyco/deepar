{
  "nbformat": 4,
  "nbformat_minor": 0,
  "metadata": {
    "colab": {
      "provenance": [],
      "authorship_tag": "ABX9TyOPA6FSHsuCza3lG/GeVjeW"
    },
    "kernelspec": {
      "name": "python3",
      "display_name": "Python 3"
    },
    "language_info": {
      "name": "python"
    }
  },
  "cells": [
    {
      "cell_type": "code",
      "source": [
        "!git clone https://github.com/Olyco/deepar.git"
      ],
      "metadata": {
        "colab": {
          "base_uri": "https://localhost:8080/"
        },
        "id": "UMQyOudRcMXe",
        "outputId": "21992c23-57b9-4f32-d353-5e22ae9df897"
      },
      "execution_count": 1,
      "outputs": [
        {
          "output_type": "stream",
          "name": "stdout",
          "text": [
            "Cloning into 'deepar'...\n",
            "remote: Enumerating objects: 173, done.\u001b[K\n",
            "remote: Counting objects: 100% (84/84), done.\u001b[K\n",
            "remote: Compressing objects: 100% (53/53), done.\u001b[K\n",
            "remote: Total 173 (delta 43), reused 53 (delta 29), pack-reused 89 (from 1)\u001b[K\n",
            "Receiving objects: 100% (173/173), 80.91 KiB | 3.00 MiB/s, done.\n",
            "Resolving deltas: 100% (80/80), done.\n"
          ]
        }
      ]
    },
    {
      "cell_type": "code",
      "source": [
        "!pip install -r deepar/requirements.txt"
      ],
      "metadata": {
        "id": "3-BkzG8f1oIG",
        "outputId": "61bc58b5-a595-4265-b35f-b9a87bfd1538",
        "colab": {
          "base_uri": "https://localhost:8080/"
        }
      },
      "execution_count": 2,
      "outputs": [
        {
          "output_type": "stream",
          "name": "stdout",
          "text": [
            "Requirement already satisfied: numpy in /usr/local/lib/python3.11/dist-packages (from -r deepar/requirements.txt (line 1)) (2.0.2)\n",
            "Requirement already satisfied: pandas in /usr/local/lib/python3.11/dist-packages (from -r deepar/requirements.txt (line 2)) (2.2.2)\n",
            "Requirement already satisfied: scipy in /usr/local/lib/python3.11/dist-packages (from -r deepar/requirements.txt (line 3)) (1.15.3)\n",
            "Requirement already satisfied: tensorflow in /usr/local/lib/python3.11/dist-packages (from -r deepar/requirements.txt (line 4)) (2.18.0)\n",
            "Requirement already satisfied: seaborn in /usr/local/lib/python3.11/dist-packages (from -r deepar/requirements.txt (line 5)) (0.13.2)\n",
            "Requirement already satisfied: pytest in /usr/local/lib/python3.11/dist-packages (from -r deepar/requirements.txt (line 6)) (8.3.5)\n",
            "Requirement already satisfied: keras in /usr/local/lib/python3.11/dist-packages (from -r deepar/requirements.txt (line 7)) (3.8.0)\n",
            "Requirement already satisfied: python-dateutil>=2.8.2 in /usr/local/lib/python3.11/dist-packages (from pandas->-r deepar/requirements.txt (line 2)) (2.9.0.post0)\n",
            "Requirement already satisfied: pytz>=2020.1 in /usr/local/lib/python3.11/dist-packages (from pandas->-r deepar/requirements.txt (line 2)) (2025.2)\n",
            "Requirement already satisfied: tzdata>=2022.7 in /usr/local/lib/python3.11/dist-packages (from pandas->-r deepar/requirements.txt (line 2)) (2025.2)\n",
            "Requirement already satisfied: absl-py>=1.0.0 in /usr/local/lib/python3.11/dist-packages (from tensorflow->-r deepar/requirements.txt (line 4)) (1.4.0)\n",
            "Requirement already satisfied: astunparse>=1.6.0 in /usr/local/lib/python3.11/dist-packages (from tensorflow->-r deepar/requirements.txt (line 4)) (1.6.3)\n",
            "Requirement already satisfied: flatbuffers>=24.3.25 in /usr/local/lib/python3.11/dist-packages (from tensorflow->-r deepar/requirements.txt (line 4)) (25.2.10)\n",
            "Requirement already satisfied: gast!=0.5.0,!=0.5.1,!=0.5.2,>=0.2.1 in /usr/local/lib/python3.11/dist-packages (from tensorflow->-r deepar/requirements.txt (line 4)) (0.6.0)\n",
            "Requirement already satisfied: google-pasta>=0.1.1 in /usr/local/lib/python3.11/dist-packages (from tensorflow->-r deepar/requirements.txt (line 4)) (0.2.0)\n",
            "Requirement already satisfied: libclang>=13.0.0 in /usr/local/lib/python3.11/dist-packages (from tensorflow->-r deepar/requirements.txt (line 4)) (18.1.1)\n",
            "Requirement already satisfied: opt-einsum>=2.3.2 in /usr/local/lib/python3.11/dist-packages (from tensorflow->-r deepar/requirements.txt (line 4)) (3.4.0)\n",
            "Requirement already satisfied: packaging in /usr/local/lib/python3.11/dist-packages (from tensorflow->-r deepar/requirements.txt (line 4)) (24.2)\n",
            "Requirement already satisfied: protobuf!=4.21.0,!=4.21.1,!=4.21.2,!=4.21.3,!=4.21.4,!=4.21.5,<6.0.0dev,>=3.20.3 in /usr/local/lib/python3.11/dist-packages (from tensorflow->-r deepar/requirements.txt (line 4)) (5.29.4)\n",
            "Requirement already satisfied: requests<3,>=2.21.0 in /usr/local/lib/python3.11/dist-packages (from tensorflow->-r deepar/requirements.txt (line 4)) (2.32.3)\n",
            "Requirement already satisfied: setuptools in /usr/local/lib/python3.11/dist-packages (from tensorflow->-r deepar/requirements.txt (line 4)) (75.2.0)\n",
            "Requirement already satisfied: six>=1.12.0 in /usr/local/lib/python3.11/dist-packages (from tensorflow->-r deepar/requirements.txt (line 4)) (1.17.0)\n",
            "Requirement already satisfied: termcolor>=1.1.0 in /usr/local/lib/python3.11/dist-packages (from tensorflow->-r deepar/requirements.txt (line 4)) (3.1.0)\n",
            "Requirement already satisfied: typing-extensions>=3.6.6 in /usr/local/lib/python3.11/dist-packages (from tensorflow->-r deepar/requirements.txt (line 4)) (4.13.2)\n",
            "Requirement already satisfied: wrapt>=1.11.0 in /usr/local/lib/python3.11/dist-packages (from tensorflow->-r deepar/requirements.txt (line 4)) (1.17.2)\n",
            "Requirement already satisfied: grpcio<2.0,>=1.24.3 in /usr/local/lib/python3.11/dist-packages (from tensorflow->-r deepar/requirements.txt (line 4)) (1.71.0)\n",
            "Requirement already satisfied: tensorboard<2.19,>=2.18 in /usr/local/lib/python3.11/dist-packages (from tensorflow->-r deepar/requirements.txt (line 4)) (2.18.0)\n",
            "Requirement already satisfied: h5py>=3.11.0 in /usr/local/lib/python3.11/dist-packages (from tensorflow->-r deepar/requirements.txt (line 4)) (3.13.0)\n",
            "Requirement already satisfied: ml-dtypes<0.5.0,>=0.4.0 in /usr/local/lib/python3.11/dist-packages (from tensorflow->-r deepar/requirements.txt (line 4)) (0.4.1)\n",
            "Requirement already satisfied: tensorflow-io-gcs-filesystem>=0.23.1 in /usr/local/lib/python3.11/dist-packages (from tensorflow->-r deepar/requirements.txt (line 4)) (0.37.1)\n",
            "Requirement already satisfied: matplotlib!=3.6.1,>=3.4 in /usr/local/lib/python3.11/dist-packages (from seaborn->-r deepar/requirements.txt (line 5)) (3.10.0)\n",
            "Requirement already satisfied: iniconfig in /usr/local/lib/python3.11/dist-packages (from pytest->-r deepar/requirements.txt (line 6)) (2.1.0)\n",
            "Requirement already satisfied: pluggy<2,>=1.5 in /usr/local/lib/python3.11/dist-packages (from pytest->-r deepar/requirements.txt (line 6)) (1.5.0)\n",
            "Requirement already satisfied: rich in /usr/local/lib/python3.11/dist-packages (from keras->-r deepar/requirements.txt (line 7)) (13.9.4)\n",
            "Requirement already satisfied: namex in /usr/local/lib/python3.11/dist-packages (from keras->-r deepar/requirements.txt (line 7)) (0.0.9)\n",
            "Requirement already satisfied: optree in /usr/local/lib/python3.11/dist-packages (from keras->-r deepar/requirements.txt (line 7)) (0.15.0)\n",
            "Requirement already satisfied: wheel<1.0,>=0.23.0 in /usr/local/lib/python3.11/dist-packages (from astunparse>=1.6.0->tensorflow->-r deepar/requirements.txt (line 4)) (0.45.1)\n",
            "Requirement already satisfied: contourpy>=1.0.1 in /usr/local/lib/python3.11/dist-packages (from matplotlib!=3.6.1,>=3.4->seaborn->-r deepar/requirements.txt (line 5)) (1.3.2)\n",
            "Requirement already satisfied: cycler>=0.10 in /usr/local/lib/python3.11/dist-packages (from matplotlib!=3.6.1,>=3.4->seaborn->-r deepar/requirements.txt (line 5)) (0.12.1)\n",
            "Requirement already satisfied: fonttools>=4.22.0 in /usr/local/lib/python3.11/dist-packages (from matplotlib!=3.6.1,>=3.4->seaborn->-r deepar/requirements.txt (line 5)) (4.58.0)\n",
            "Requirement already satisfied: kiwisolver>=1.3.1 in /usr/local/lib/python3.11/dist-packages (from matplotlib!=3.6.1,>=3.4->seaborn->-r deepar/requirements.txt (line 5)) (1.4.8)\n",
            "Requirement already satisfied: pillow>=8 in /usr/local/lib/python3.11/dist-packages (from matplotlib!=3.6.1,>=3.4->seaborn->-r deepar/requirements.txt (line 5)) (11.2.1)\n",
            "Requirement already satisfied: pyparsing>=2.3.1 in /usr/local/lib/python3.11/dist-packages (from matplotlib!=3.6.1,>=3.4->seaborn->-r deepar/requirements.txt (line 5)) (3.2.3)\n",
            "Requirement already satisfied: charset-normalizer<4,>=2 in /usr/local/lib/python3.11/dist-packages (from requests<3,>=2.21.0->tensorflow->-r deepar/requirements.txt (line 4)) (3.4.2)\n",
            "Requirement already satisfied: idna<4,>=2.5 in /usr/local/lib/python3.11/dist-packages (from requests<3,>=2.21.0->tensorflow->-r deepar/requirements.txt (line 4)) (3.10)\n",
            "Requirement already satisfied: urllib3<3,>=1.21.1 in /usr/local/lib/python3.11/dist-packages (from requests<3,>=2.21.0->tensorflow->-r deepar/requirements.txt (line 4)) (2.4.0)\n",
            "Requirement already satisfied: certifi>=2017.4.17 in /usr/local/lib/python3.11/dist-packages (from requests<3,>=2.21.0->tensorflow->-r deepar/requirements.txt (line 4)) (2025.4.26)\n",
            "Requirement already satisfied: markdown>=2.6.8 in /usr/local/lib/python3.11/dist-packages (from tensorboard<2.19,>=2.18->tensorflow->-r deepar/requirements.txt (line 4)) (3.8)\n",
            "Requirement already satisfied: tensorboard-data-server<0.8.0,>=0.7.0 in /usr/local/lib/python3.11/dist-packages (from tensorboard<2.19,>=2.18->tensorflow->-r deepar/requirements.txt (line 4)) (0.7.2)\n",
            "Requirement already satisfied: werkzeug>=1.0.1 in /usr/local/lib/python3.11/dist-packages (from tensorboard<2.19,>=2.18->tensorflow->-r deepar/requirements.txt (line 4)) (3.1.3)\n",
            "Requirement already satisfied: markdown-it-py>=2.2.0 in /usr/local/lib/python3.11/dist-packages (from rich->keras->-r deepar/requirements.txt (line 7)) (3.0.0)\n",
            "Requirement already satisfied: pygments<3.0.0,>=2.13.0 in /usr/local/lib/python3.11/dist-packages (from rich->keras->-r deepar/requirements.txt (line 7)) (2.19.1)\n",
            "Requirement already satisfied: mdurl~=0.1 in /usr/local/lib/python3.11/dist-packages (from markdown-it-py>=2.2.0->rich->keras->-r deepar/requirements.txt (line 7)) (0.1.2)\n",
            "Requirement already satisfied: MarkupSafe>=2.1.1 in /usr/local/lib/python3.11/dist-packages (from werkzeug>=1.0.1->tensorboard<2.19,>=2.18->tensorflow->-r deepar/requirements.txt (line 4)) (3.0.2)\n"
          ]
        }
      ]
    },
    {
      "cell_type": "code",
      "source": [
        "import pandas as pd\n",
        "\n",
        "air = pd.read_csv(\"AirPassengers.csv\")['#Passengers'].values\n",
        "source_df = pd.DataFrame({'feature_1': air[:-1], 'target': air[1:]})\n",
        "source_df['category'] = ['1' for i in range(source_df.shape[0])]"
      ],
      "metadata": {
        "id": "9ciKiZv_ZRW2"
      },
      "execution_count": 3,
      "outputs": []
    },
    {
      "cell_type": "code",
      "source": [],
      "metadata": {
        "id": "rI_yQPxc5qUO"
      },
      "execution_count": null,
      "outputs": []
    },
    {
      "cell_type": "code",
      "source": [
        "from deepar.dataset.time_series import TimeSeries\n",
        "from deepar.model.lstm import DeepAR\n",
        "from sklearn.preprocessing import MinMaxScaler\n",
        "\n",
        "ts = TimeSeries(source_df, scaler=MinMaxScaler)\n",
        "dp_model = DeepAR(ts, epochs=100)\n",
        "dp_model.instantiate_and_fit()"
      ],
      "metadata": {
        "id": "iQ5ElyppZRcD"
      },
      "execution_count": null,
      "outputs": []
    },
    {
      "cell_type": "code",
      "source": [
        "%matplotlib inline\n",
        "from numpy.random import normal\n",
        "import tqdm\n",
        "import pandas as pd\n",
        "from matplotlib import pyplot as plt\n",
        "import numpy as np\n",
        "\n",
        "batch = ts.next_batch(1, 20)\n",
        "\n",
        "def get_sample_prediction(sample, prediction_fn):\n",
        "    sample = np.array(sample).reshape(1, 20, 1)\n",
        "    output = prediction_fn([sample])\n",
        "    samples = []\n",
        "    for mu,sigma in zip(output[0].reshape(20), output[1].reshape(20)):\n",
        "        samples.append(normal(loc=mu, scale=np.sqrt(sigma), size=1)[0])\n",
        "    return np.array(samples)\n",
        "\n",
        "ress = []\n",
        "for i in tqdm.tqdm(range(300)):\n",
        "    pred = get_sample_prediction(batch[0], dp_model.predict_theta_from_input)\n",
        "    ress.append(pred)\n",
        "\n",
        "def plot_uncertainty(ress, ground_truth, n_steps=20, figsize=(9, 6),\n",
        "                     prediction_dots=True, title='Prediction on training set'):\n",
        "\n",
        "    res_df = pd.DataFrame(ress).T\n",
        "    tot_res = res_df\n",
        "\n",
        "    plt.figure(figsize=figsize)\n",
        "    plt.plot(ground_truth.reshape(n_steps), linewidth=6, label='Original data')\n",
        "    tot_res['mu'] = tot_res.apply(lambda x: np.mean(x), axis=1)\n",
        "    tot_res['upper'] = tot_res.apply(lambda x: np.mean(x) + np.std(x), axis=1)\n",
        "    tot_res['lower'] = tot_res.apply(lambda x: np.mean(x) - np.std(x), axis=1)\n",
        "    tot_res['two_upper'] = tot_res.apply(lambda x: np.mean(x) + 2*np.std(x), axis=1)\n",
        "    tot_res['two_lower'] = tot_res.apply(lambda x: np.mean(x) - 2*np.std(x), axis=1)\n",
        "\n",
        "    plt.plot(tot_res.mu, linewidth=4)\n",
        "    if prediction_dots:\n",
        "        plt.plot(tot_res.mu, 'bo', label='Likelihood mean')\n",
        "    plt.fill_between(x = tot_res.index, y1=tot_res.lower, y2=tot_res.upper, alpha=0.5)\n",
        "    plt.fill_between(x = tot_res.index, y1=tot_res.two_lower, y2=tot_res.two_upper, alpha=0.5)\n",
        "    plt.title(title)\n",
        "    plt.legend()\n",
        "\n",
        "plot_uncertainty(ress, batch[1])"
      ],
      "metadata": {
        "id": "JMhIfbguZaPI"
      },
      "execution_count": null,
      "outputs": []
    },
    {
      "cell_type": "code",
      "source": [
        "# Evaluate fit on training set\n",
        "from sklearn.preprocessing import MinMaxScaler\n",
        "\n",
        "source_df['feature_1'] = source_df.feature_1.astype('float')\n",
        "X_batches = source_df.feature_1.values[:-3].reshape(-1, 20)\n",
        "y = source_df.target.values[:-3].reshape(-1, 20)\n",
        "\n",
        "predictions = []\n",
        "for batch in X_batches:\n",
        "    scaler = MinMaxScaler()\n",
        "    scaled_batch = scaler.fit_transform(batch.reshape(20, 1))\n",
        "    ress = []\n",
        "    for i in tqdm.tqdm(range(300)):\n",
        "        unscaled_prediction = get_sample_prediction(scaled_batch, dp_model.predict_theta_from_input)\n",
        "        ress.append(scaler.inverse_transform([unscaled_prediction])[0])\n",
        "    predictions.append(ress)\n",
        "\n",
        "# Concatenate batches and plot the whole time series\n",
        "prediction_concat = np.concatenate(predictions, axis=1, )\n",
        "ground_truth = np.concatenate(y, axis=0)\n",
        "plot_uncertainty(ress = prediction_concat, ground_truth=ground_truth,\n",
        "                 n_steps=140, figsize=(15, 9), prediction_dots=False)"
      ],
      "metadata": {
        "id": "JOiXPWIrZZZ1"
      },
      "execution_count": null,
      "outputs": []
    },
    {
      "cell_type": "code",
      "source": [],
      "metadata": {
        "id": "xM51ewvhZthv"
      },
      "execution_count": null,
      "outputs": []
    }
  ]
}